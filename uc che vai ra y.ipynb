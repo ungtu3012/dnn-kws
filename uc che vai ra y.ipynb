{
 "cells": [
  {
   "cell_type": "code",
   "execution_count": 9,
   "metadata": {},
   "outputs": [],
   "source": [
    "import os\n",
    "import data\n",
    "import model\n",
    "import utils\n",
    "import numpy as np\n",
    "import tensorflow as tf\n",
    "import matplotlib.pyplot as plt\n",
    "from IPython.display import clear_output\n",
    "from pprint import pprint\n"
   ]
  },
  {
   "cell_type": "code",
   "execution_count": 10,
   "metadata": {},
   "outputs": [
    {
     "data": {
      "text/plain": [
       "0"
      ]
     },
     "execution_count": 10,
     "metadata": {},
     "output_type": "execute_result"
    }
   ],
   "source": [
    "os.system('rm -rf graphs checkpoints')\n"
   ]
  },
  {
   "cell_type": "code",
   "execution_count": 17,
   "metadata": {},
   "outputs": [],
   "source": [
    "data.load()\n",
    "os.system('rm -rf graphs checkpoints')\n",
    "hyper_params = {\n",
    "    'num_features': 22050,\n",
    "    'num_hiddens_fc': [2], \n",
    "    'num_classes': 2,\n",
    "    'learning_rate': 1e-2\n",
    "}"
   ]
  },
  {
   "cell_type": "code",
   "execution_count": 12,
   "metadata": {
    "scrolled": true
   },
   "outputs": [],
   "source": [
    "tf.reset_default_graph()\n",
    "graph, model_vars = model.create_graph(hyper_params)"
   ]
  },
  {
   "cell_type": "code",
   "execution_count": 18,
   "metadata": {
    "scrolled": true
   },
   "outputs": [
    {
     "name": "stdout",
     "output_type": "stream",
     "text": [
      "num_train 3801 num_test 951 n_batch 296953125 batch_per_epochs 29\n",
      "batch 0 cost 4.28324\n",
      "batch 50 cost 9.46728\n",
      "batch 100 cost 8.86343\n",
      "batch 150 cost 1.04779\n",
      "batch 200 cost 2.17771\n",
      "batch 250 cost 0.652715\n",
      "batch 300 cost 0.00249893\n",
      "batch 350 cost 0.583048\n",
      "batch 400 cost 0.270434\n",
      "batch 450 cost 0.000425952\n",
      "batch 500 cost 0.416991\n",
      "batch 550 cost 0.348491\n",
      "batch 600 cost 1.063\n",
      "batch 650 cost 0.445516\n",
      "batch 700 cost 2.38515\n",
      "batch 750 cost 0.454894\n",
      "batch 800 cost 0.971666\n",
      "batch 850 cost 0.637076\n",
      "batch 900 cost 0.519784\n",
      "batch 950 cost 0.740623\n",
      "batch 1000 cost 9.11533\n",
      "batch 1050 cost 3.14909\n",
      "batch 1100 cost 10.9902\n",
      "batch 1150 cost 23.0284\n",
      "batch 1200 cost 37.9508\n",
      "batch 1250 cost 55.8181\n",
      "batch 1300 cost 16.8019\n",
      "batch 1350 cost 1.32342\n",
      "batch 1400 cost 0.0\n",
      "batch 1450 cost 0.0\n",
      "batch 1500 cost 0.0\n",
      "batch 1550 cost 0.0\n",
      "batch 1600 cost 0.0\n",
      "batch 1650 cost 0.0\n",
      "batch 1700 cost 0.0\n",
      "batch 1750 cost 0.0\n",
      "batch 1800 cost 0.0\n",
      "batch 1850 cost 0.0\n",
      "batch 1900 cost 0.0\n",
      "batch 1950 cost 0.0\n",
      "batch 2000 cost 0.0\n",
      "batch 2050 cost 0.0\n",
      "batch 2100 cost 0.0\n",
      "batch 2150 cost 0.0\n",
      "batch 2200 cost 0.0\n",
      "batch 2250 cost 0.0\n",
      "batch 2300 cost 0.0\n",
      "batch 2350 cost 0.0\n",
      "batch 2400 cost 0.0\n",
      "batch 2450 cost 0.0\n",
      "batch 2500 cost 0.0\n",
      "batch 2550 cost 0.0\n",
      "batch 2600 cost 0.0\n",
      "batch 2650 cost 0.0\n",
      "batch 2700 cost 0.0\n",
      "batch 2750 cost 0.0\n",
      "batch 2800 cost 0.0\n",
      "batch 2850 cost 0.0\n",
      "batch 2900 cost 0.0\n",
      "batch 2950 cost 0.0\n",
      "batch 3000 cost 0.0\n",
      "batch 3050 cost 0.0\n",
      "batch 3100 cost 0.0\n",
      "batch 3150 cost 0.0\n",
      "batch 3200 cost 0.0\n",
      "batch 3250 cost 0.0\n",
      "batch 3300 cost 0.0\n",
      "batch 3350 cost 0.0\n",
      "batch 3400 cost 0.0\n",
      "batch 3450 cost 0.0\n",
      "batch 3500 cost 0.0\n",
      "batch 3550 cost 0.0\n",
      "batch 3600 cost 0.0\n",
      "batch 3650 cost 0.0\n",
      "batch 3700 cost 0.0\n",
      "batch 3750 cost 0.0\n"
     ]
    },
    {
     "ename": "KeyboardInterrupt",
     "evalue": "",
     "output_type": "error",
     "traceback": [
      "\u001b[0;31m---------------------------------------------------------------------------\u001b[0m",
      "\u001b[0;31mKeyboardInterrupt\u001b[0m                         Traceback (most recent call last)",
      "\u001b[0;32m<ipython-input-18-ec404edca022>\u001b[0m in \u001b[0;36m<module>\u001b[0;34m()\u001b[0m\n\u001b[1;32m     32\u001b[0m         batch_cost, _, summary = sess.run([model_vars['cost'], \n\u001b[1;32m     33\u001b[0m                                                       \u001b[0mmodel_vars\u001b[0m\u001b[0;34m[\u001b[0m\u001b[0;34m'optimizer'\u001b[0m\u001b[0;34m]\u001b[0m\u001b[0;34m,\u001b[0m\u001b[0;34m\u001b[0m\u001b[0m\n\u001b[0;32m---> 34\u001b[0;31m                                                       model_vars['summary_op']], feed)\n\u001b[0m\u001b[1;32m     35\u001b[0m         \u001b[0mwriter\u001b[0m\u001b[0;34m.\u001b[0m\u001b[0madd_summary\u001b[0m\u001b[0;34m(\u001b[0m\u001b[0msummary\u001b[0m\u001b[0;34m,\u001b[0m \u001b[0mglobal_step\u001b[0m\u001b[0;34m=\u001b[0m\u001b[0mi\u001b[0m\u001b[0;34m)\u001b[0m\u001b[0;34m\u001b[0m\u001b[0m\n\u001b[1;32m     36\u001b[0m \u001b[0;34m\u001b[0m\u001b[0m\n",
      "\u001b[0;32m/usr/local/lib/python3.5/dist-packages/tensorflow/python/client/session.py\u001b[0m in \u001b[0;36mrun\u001b[0;34m(self, fetches, feed_dict, options, run_metadata)\u001b[0m\n\u001b[1;32m    893\u001b[0m     \u001b[0;32mtry\u001b[0m\u001b[0;34m:\u001b[0m\u001b[0;34m\u001b[0m\u001b[0m\n\u001b[1;32m    894\u001b[0m       result = self._run(None, fetches, feed_dict, options_ptr,\n\u001b[0;32m--> 895\u001b[0;31m                          run_metadata_ptr)\n\u001b[0m\u001b[1;32m    896\u001b[0m       \u001b[0;32mif\u001b[0m \u001b[0mrun_metadata\u001b[0m\u001b[0;34m:\u001b[0m\u001b[0;34m\u001b[0m\u001b[0m\n\u001b[1;32m    897\u001b[0m         \u001b[0mproto_data\u001b[0m \u001b[0;34m=\u001b[0m \u001b[0mtf_session\u001b[0m\u001b[0;34m.\u001b[0m\u001b[0mTF_GetBuffer\u001b[0m\u001b[0;34m(\u001b[0m\u001b[0mrun_metadata_ptr\u001b[0m\u001b[0;34m)\u001b[0m\u001b[0;34m\u001b[0m\u001b[0m\n",
      "\u001b[0;32m/usr/local/lib/python3.5/dist-packages/tensorflow/python/client/session.py\u001b[0m in \u001b[0;36m_run\u001b[0;34m(self, handle, fetches, feed_dict, options, run_metadata)\u001b[0m\n\u001b[1;32m   1122\u001b[0m     \u001b[0;32mif\u001b[0m \u001b[0mfinal_fetches\u001b[0m \u001b[0;32mor\u001b[0m \u001b[0mfinal_targets\u001b[0m \u001b[0;32mor\u001b[0m \u001b[0;34m(\u001b[0m\u001b[0mhandle\u001b[0m \u001b[0;32mand\u001b[0m \u001b[0mfeed_dict_tensor\u001b[0m\u001b[0;34m)\u001b[0m\u001b[0;34m:\u001b[0m\u001b[0;34m\u001b[0m\u001b[0m\n\u001b[1;32m   1123\u001b[0m       results = self._do_run(handle, final_targets, final_fetches,\n\u001b[0;32m-> 1124\u001b[0;31m                              feed_dict_tensor, options, run_metadata)\n\u001b[0m\u001b[1;32m   1125\u001b[0m     \u001b[0;32melse\u001b[0m\u001b[0;34m:\u001b[0m\u001b[0;34m\u001b[0m\u001b[0m\n\u001b[1;32m   1126\u001b[0m       \u001b[0mresults\u001b[0m \u001b[0;34m=\u001b[0m \u001b[0;34m[\u001b[0m\u001b[0;34m]\u001b[0m\u001b[0;34m\u001b[0m\u001b[0m\n",
      "\u001b[0;32m/usr/local/lib/python3.5/dist-packages/tensorflow/python/client/session.py\u001b[0m in \u001b[0;36m_do_run\u001b[0;34m(self, handle, target_list, fetch_list, feed_dict, options, run_metadata)\u001b[0m\n\u001b[1;32m   1319\u001b[0m     \u001b[0;32mif\u001b[0m \u001b[0mhandle\u001b[0m \u001b[0;32mis\u001b[0m \u001b[0;32mNone\u001b[0m\u001b[0;34m:\u001b[0m\u001b[0;34m\u001b[0m\u001b[0m\n\u001b[1;32m   1320\u001b[0m       return self._do_call(_run_fn, self._session, feeds, fetches, targets,\n\u001b[0;32m-> 1321\u001b[0;31m                            options, run_metadata)\n\u001b[0m\u001b[1;32m   1322\u001b[0m     \u001b[0;32melse\u001b[0m\u001b[0;34m:\u001b[0m\u001b[0;34m\u001b[0m\u001b[0m\n\u001b[1;32m   1323\u001b[0m       \u001b[0;32mreturn\u001b[0m \u001b[0mself\u001b[0m\u001b[0;34m.\u001b[0m\u001b[0m_do_call\u001b[0m\u001b[0;34m(\u001b[0m\u001b[0m_prun_fn\u001b[0m\u001b[0;34m,\u001b[0m \u001b[0mself\u001b[0m\u001b[0;34m.\u001b[0m\u001b[0m_session\u001b[0m\u001b[0;34m,\u001b[0m \u001b[0mhandle\u001b[0m\u001b[0;34m,\u001b[0m \u001b[0mfeeds\u001b[0m\u001b[0;34m,\u001b[0m \u001b[0mfetches\u001b[0m\u001b[0;34m)\u001b[0m\u001b[0;34m\u001b[0m\u001b[0m\n",
      "\u001b[0;32m/usr/local/lib/python3.5/dist-packages/tensorflow/python/client/session.py\u001b[0m in \u001b[0;36m_do_call\u001b[0;34m(self, fn, *args)\u001b[0m\n\u001b[1;32m   1325\u001b[0m   \u001b[0;32mdef\u001b[0m \u001b[0m_do_call\u001b[0m\u001b[0;34m(\u001b[0m\u001b[0mself\u001b[0m\u001b[0;34m,\u001b[0m \u001b[0mfn\u001b[0m\u001b[0;34m,\u001b[0m \u001b[0;34m*\u001b[0m\u001b[0margs\u001b[0m\u001b[0;34m)\u001b[0m\u001b[0;34m:\u001b[0m\u001b[0;34m\u001b[0m\u001b[0m\n\u001b[1;32m   1326\u001b[0m     \u001b[0;32mtry\u001b[0m\u001b[0;34m:\u001b[0m\u001b[0;34m\u001b[0m\u001b[0m\n\u001b[0;32m-> 1327\u001b[0;31m       \u001b[0;32mreturn\u001b[0m \u001b[0mfn\u001b[0m\u001b[0;34m(\u001b[0m\u001b[0;34m*\u001b[0m\u001b[0margs\u001b[0m\u001b[0;34m)\u001b[0m\u001b[0;34m\u001b[0m\u001b[0m\n\u001b[0m\u001b[1;32m   1328\u001b[0m     \u001b[0;32mexcept\u001b[0m \u001b[0merrors\u001b[0m\u001b[0;34m.\u001b[0m\u001b[0mOpError\u001b[0m \u001b[0;32mas\u001b[0m \u001b[0me\u001b[0m\u001b[0;34m:\u001b[0m\u001b[0;34m\u001b[0m\u001b[0m\n\u001b[1;32m   1329\u001b[0m       \u001b[0mmessage\u001b[0m \u001b[0;34m=\u001b[0m \u001b[0mcompat\u001b[0m\u001b[0;34m.\u001b[0m\u001b[0mas_text\u001b[0m\u001b[0;34m(\u001b[0m\u001b[0me\u001b[0m\u001b[0;34m.\u001b[0m\u001b[0mmessage\u001b[0m\u001b[0;34m)\u001b[0m\u001b[0;34m\u001b[0m\u001b[0m\n",
      "\u001b[0;32m/usr/local/lib/python3.5/dist-packages/tensorflow/python/client/session.py\u001b[0m in \u001b[0;36m_run_fn\u001b[0;34m(session, feed_dict, fetch_list, target_list, options, run_metadata)\u001b[0m\n\u001b[1;32m   1304\u001b[0m           return tf_session.TF_Run(session, options,\n\u001b[1;32m   1305\u001b[0m                                    \u001b[0mfeed_dict\u001b[0m\u001b[0;34m,\u001b[0m \u001b[0mfetch_list\u001b[0m\u001b[0;34m,\u001b[0m \u001b[0mtarget_list\u001b[0m\u001b[0;34m,\u001b[0m\u001b[0;34m\u001b[0m\u001b[0m\n\u001b[0;32m-> 1306\u001b[0;31m                                    status, run_metadata)\n\u001b[0m\u001b[1;32m   1307\u001b[0m \u001b[0;34m\u001b[0m\u001b[0m\n\u001b[1;32m   1308\u001b[0m     \u001b[0;32mdef\u001b[0m \u001b[0m_prun_fn\u001b[0m\u001b[0;34m(\u001b[0m\u001b[0msession\u001b[0m\u001b[0;34m,\u001b[0m \u001b[0mhandle\u001b[0m\u001b[0;34m,\u001b[0m \u001b[0mfeed_dict\u001b[0m\u001b[0;34m,\u001b[0m \u001b[0mfetch_list\u001b[0m\u001b[0;34m)\u001b[0m\u001b[0;34m:\u001b[0m\u001b[0;34m\u001b[0m\u001b[0m\n",
      "\u001b[0;31mKeyboardInterrupt\u001b[0m: "
     ]
    }
   ],
   "source": [
    "train_params = {\n",
    "    'batch_size' : 128,\n",
    "    'skip_step' : 50,\n",
    "    'n_epochs' : 10000000\n",
    "}\n",
    "\n",
    "with tf.Session(graph=graph) as sess:\n",
    "    # Mot vai thu tuc\n",
    "    tf.global_variables_initializer().run()\n",
    "    writer = tf.summary.FileWriter('./graphs/', sess.graph)\n",
    "    saver = tf.train.Saver()\n",
    "    ckpt = tf.train.get_checkpoint_state('./checkpoints/')\n",
    "    if ckpt and ckpt.model_checkpoint_path:\n",
    "        saver.restore(sess, ckpt.model_checkpoint_path)\n",
    "    \n",
    "    # Mot vai variable\n",
    "    initial_step = model_vars['global_step'].eval()\n",
    "    num_train, num_test = data.stats()\n",
    "    print('num_train', num_train, \n",
    "          'num_test', num_test, \n",
    "          'n_batch',int(train_params['n_epochs'] * num_train/train_params['batch_size']), \n",
    "          'batch_per_epochs', int(num_train/train_params['batch_size']))\n",
    "    train_batch = data.train_batch_generator(train_params['batch_size'])\n",
    "\n",
    "    # Training\n",
    "    for i in range(initial_step,  int(train_params['n_epochs'] * num_train/train_params['batch_size'])):\n",
    "        X_batch, Y_batch = next(train_batch)\n",
    "        feed = {\n",
    "            model_vars['X']: X_batch,\n",
    "            model_vars['Y']: Y_batch\n",
    "        }\n",
    "        batch_cost, _, summary = sess.run([model_vars['cost'], \n",
    "                                                      model_vars['optimizer'], \n",
    "                                                      model_vars['summary_op']], feed)\n",
    "        writer.add_summary(summary, global_step=i)\n",
    "\n",
    "        if i % train_params['skip_step'] == 0:\n",
    "            print('batch', i, 'cost', batch_cost)\n",
    "            saver.save(sess, './checkpoints/', i)\n"
   ]
  },
  {
   "cell_type": "code",
   "execution_count": 19,
   "metadata": {},
   "outputs": [
    {
     "data": {
      "image/png": "[encoded data removed]",
      "text/plain": [
       "<matplotlib.figure.Figure at 0x7fca90bb9320>"
      ]
     },
     "metadata": {},
     "output_type": "display_data"
    }
   ],
   "source": [
    "# Learning curve\n",
    "train_params = {\n",
    "    'batch_size' : 10,\n",
    "    'skip_step' : 5,\n",
    "    'n_epochs' : 1\n",
    "}\n",
    "with tf.Session(graph=graph) as sess:\n",
    "    sess.run(tf.global_variables_initializer())\n",
    "    \n",
    "    writer = tf.summary.FileWriter('./graphs', sess.graph)    \n",
    "    \n",
    "    saver = tf.train.Saver()\n",
    "    ckpt = tf.train.get_checkpoint_state('./checkpoints/')\n",
    "    if ckpt and ckpt.model_checkpoint_path:\n",
    "        saver.restore(sess, ckpt.model_checkpoint_path)\n",
    "        \n",
    "    train_curve = []\n",
    "    test_curve = []\n",
    "\n",
    "    train_batch = data.train_batch_generator(train_params['batch_size'])\n",
    "    test_batch = data.test_batch_generator(train_params['batch_size'])\n",
    "    num_train, num_test = data.stats()\n",
    "\n",
    "    cur_num = cur_cost = avg_cost = 0\n",
    "    for i in range(int(num_train / train_params['batch_size'])):\n",
    "        X_batch, Y_batch = next(train_batch)\n",
    "        feed = {\n",
    "            model_vars['X']: X_batch,\n",
    "            model_vars['Y']: Y_batch,\n",
    "        }\n",
    "        cur_cost = sess.run(model_vars['cost'], feed)\n",
    "        avg_cost = (avg_cost * cur_num + cur_cost * train_params['batch_size']) / (cur_num + train_params['batch_size'])\n",
    "        cur_num += train_params['batch_size']\n",
    "        train_curve.append(avg_cost)\n",
    "\n",
    "        if i % 10 == 0:\n",
    "            clear_output()\n",
    "            plt.plot(train_curve, '-b')\n",
    "            plt.plot(test_curve, '-r')\n",
    "            plt.show()\n",
    "\n",
    "    cur_num = cur_cost = avg_cost = 0\n",
    "    \n",
    "    for i in range(int(num_test / train_params['batch_size'])):\n",
    "        X_batch, Y_batch = next(test_batch)\n",
    "        feed = {\n",
    "            model_vars['X']: X_batch,\n",
    "            model_vars['Y']: Y_batch,\n",
    "        }\n",
    "        cur_cost = sess.run(model_vars['cost'], feed)\n",
    "        avg_cost = (avg_cost * cur_num + cur_cost * train_params['batch_size']) / (cur_num + train_params['batch_size'])\n",
    "        cur_num += train_params['batch_size']\n",
    "        test_curve.append(avg_cost)\n",
    "\n",
    "        \n",
    "        if i % 10 == 0:\n",
    "            clear_output()\n",
    "            plt.plot(train_curve, '-b')\n",
    "            plt.plot(test_curve, '-r')\n",
    "            plt.show()\n",
    "\n",
    "    clear_output()\n",
    "    plt.plot(train_curve, '-b')\n",
    "    plt.plot(test_curve, '-r')\n",
    "    plt.show()"
   ]
  }
 ],
 "metadata": {
  "anaconda-cloud": {},
  "kernelspec": {
   "display_name": "Python 3",
   "language": "python",
   "name": "python3"
  },
  "language_info": {
   "codemirror_mode": {
    "name": "ipython",
    "version": 3
   },
   "file_extension": ".py",
   "mimetype": "text/x-python",
   "name": "python",
   "nbconvert_exporter": "python",
   "pygments_lexer": "ipython3",
   "version": "3.5.2"
  }
 },
 "nbformat": 4,
 "nbformat_minor": 1
}
