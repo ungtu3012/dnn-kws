{
 "cells": [
  {
   "cell_type": "code",
   "execution_count": null,
   "metadata": {
    "collapsed": false
   },
   "outputs": [],
   "source": [
    "import os\n",
    "import data\n",
    "import model\n",
    "import utils\n",
    "import numpy as np\n",
    "import tensorflow as tf\n",
    "import matplotlib.pyplot as plt\n",
    "from IPython.display import clear_output\n",
    "from pprint import pprint"
   ]
  },
  {
   "cell_type": "code",
   "execution_count": null,
   "metadata": {
    "collapsed": false
   },
   "outputs": [],
   "source": [
    "data.load()\n",
    "hyper_params = {\n",
    "    'batch_size': 28,\n",
    "    'num_features': 20 * 80,\n",
    "    'num_hiddens_fc': [3200, 3200, 1600],\n",
    "    'num_classes': 2,\n",
    "    'learning_rate': 1e-2\n",
    "}"
   ]
  },
  {
   "cell_type": "code",
   "execution_count": null,
   "metadata": {
    "collapsed": false,
    "scrolled": true
   },
   "outputs": [],
   "source": [
    "tf.reset_default_graph()\n",
    "graph, model_vars = model.create_graph(hyper_params)"
   ]
  },
  {
   "cell_type": "code",
   "execution_count": null,
   "metadata": {
    "collapsed": false,
    "scrolled": false
   },
   "outputs": [],
   "source": [
    "train_params = {\n",
    "    'batch_size' : 2,\n",
    "    'skip_step' : 4,\n",
    "    'n_epochs' : 10000000\n",
    "}\n",
    "\n",
    "with tf.Session(graph=graph) as sess:\n",
    "    # Mot vai thu tuc\n",
    "    tf.global_variables_initializer().run()\n",
    "    writer = tf.summary.FileWriter('./graphs/', sess.graph)\n",
    "    saver = tf.train.Saver()\n",
    "    ckpt = tf.train.get_checkpoint_state('./checkpoints/')\n",
    "    if ckpt and ckpt.model_checkpoint_path:\n",
    "        saver.restore(sess, ckpt.model_checkpoint_path)\n",
    "    \n",
    "    # Mot vai variable\n",
    "    initial_step = model_vars['global_step'].eval()\n",
    "    num_train, num_test = data.stats()\n",
    "    print('num_train', num_train, \n",
    "          'num_test', num_test, \n",
    "          'n_batch',int(train_params['n_epochs'] * num_train/train_params['batch_size']), \n",
    "          'batch_per_epochs', int(num_train/train_params['batch_size']))\n",
    "    train_batch = data.train_batch_generator(train_params['batch_size'])\n",
    "\n",
    "    # Training\n",
    "    for i in range(initial_step,  int(train_params['n_epochs'] * num_train/train_params['batch_size'])):\n",
    "        X_batch, Y_batch = next(train_batch)\n",
    "        feed = {model_vars['X']: X_batch,\n",
    "            model_vars['Y']: Y_batch}\n",
    "        batch_cost, _, summary = sess.run([model_vars['cost'], \n",
    "                                                      model_vars['optimizer'], \n",
    "                                                      model_vars['summary_op']], feed)\n",
    "        writer.add_summary(summary, global_step=i)\n",
    "\n",
    "        if i % train_params['skip_step'] == 0:\n",
    "            print('batch', i, 'cost', batch_cost)\n",
    "            saver.save(sess, './checkpoints/', i)\n"
   ]
  },
  {
   "cell_type": "code",
   "execution_count": null,
   "metadata": {
    "collapsed": true
   },
   "outputs": [],
   "source": [
    "train_params = {\n",
    "    'batch_size' : 2,\n",
    "    'skip_step' : 1,\n",
    "    'n_epochs' : 10000000\n",
    "}\n",
    "\n",
    "with tf.Session(graph=graph) as sess:\n",
    "    tf.global_variables_initializer().run()\n",
    "    X_batch, seq_len_batch, Y_batch = next(train_batch)"
   ]
  }
 ],
 "metadata": {
  "anaconda-cloud": {},
  "kernelspec": {
   "display_name": "Python [default]",
   "language": "python",
   "name": "python3"
  },
  "language_info": {
   "codemirror_mode": {
    "name": "ipython",
    "version": 3
   },
   "file_extension": ".py",
   "mimetype": "text/x-python",
   "name": "python",
   "nbconvert_exporter": "python",
   "pygments_lexer": "ipython3",
   "version": "3.5.2"
  }
 },
 "nbformat": 4,
 "nbformat_minor": 1
}
